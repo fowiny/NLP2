{
 "cells": [
  {
   "cell_type": "code",
   "execution_count": 1,
   "metadata": {
    "collapsed": false
   },
   "outputs": [],
   "source": [
    "train = open(\"train/tr.txt\", \"r\").readlines()"
   ]
  },
  {
   "cell_type": "code",
   "execution_count": 2,
   "metadata": {
    "collapsed": true
   },
   "outputs": [],
   "source": [
    "h1 = open('train/P1.txt', 'w')\n",
    "h2 = open('train/P2.txt', 'w')\n",
    "h3 = open('train/P3.txt', 'w')\n",
    "h4 = open('train/P4.txt', 'w')\n",
    "g1 = open('train/S1.txt', 'w')\n",
    "g2 = open('train/S2.txt', 'w')\n",
    "g3 = open('train/S3.txt', 'w')\n",
    "g4 = open('train/S4.txt', 'w')"
   ]
  },
  {
   "cell_type": "code",
   "execution_count": 3,
   "metadata": {
    "collapsed": false
   },
   "outputs": [],
   "source": [
    "for d in train:\n",
    "    a = d.strip(\"\\n\")\n",
    "    print >> h1, a[0:1]\n",
    "    print >> h2, a[0:2]\n",
    "    print >> h3, a[0:3]\n",
    "    print >> h4, a[0:4]\n",
    "    print >> g1, a[-1:]\n",
    "    print >> g2, a[-2:]\n",
    "    print >> g3, a[-3:]\n",
    "    print >> g4, a[-4:]\n",
    "h1.close()\n",
    "h2.close()\n",
    "h3.close()\n",
    "h4.close()\n",
    "g1.close()\n",
    "g2.close()\n",
    "g3.close()\n",
    "g4.close()"
   ]
  },
  {
   "cell_type": "code",
   "execution_count": 4,
   "metadata": {
    "collapsed": true
   },
   "outputs": [],
   "source": [
    "test = open(\"test/te.txt\", \"r\").readlines()\n",
    "u1 = open('test/P1.txt', 'w')\n",
    "u2 = open('test/P2.txt', 'w')\n",
    "u3 = open('test/P3.txt', 'w')\n",
    "u4 = open('test/P4.txt', 'w')\n",
    "v1 = open('test/S1.txt', 'w')\n",
    "v2 = open('test/S2.txt', 'w')\n",
    "v3 = open('test/S3.txt', 'w')\n",
    "v4 = open('test/S4.txt', 'w')"
   ]
  },
  {
   "cell_type": "code",
   "execution_count": 5,
   "metadata": {
    "collapsed": false
   },
   "outputs": [],
   "source": [
    "for c in test:\n",
    "    b = c.strip(\"\\n\")\n",
    "    print >> u1, b[0:1]\n",
    "    print >> u2, b[0:2]\n",
    "    print >> u3, b[0:3]\n",
    "    print >> u4, b[0:4]\n",
    "    print >> v1, b[-1:]\n",
    "    print >> v2, b[-2:]\n",
    "    print >> v3, b[-3:]\n",
    "    print >> v4, b[-4:]\n",
    "u1.close()\n",
    "u2.close()\n",
    "u3.close()\n",
    "u4.close()\n",
    "v1.close()\n",
    "v2.close()\n",
    "v3.close()\n",
    "v4.close()"
   ]
  },
  {
   "cell_type": "code",
   "execution_count": null,
   "metadata": {
    "collapsed": true
   },
   "outputs": [],
   "source": []
  }
 ],
 "metadata": {
  "anaconda-cloud": {},
  "kernelspec": {
   "display_name": "Python [conda env:gl-env]",
   "language": "python",
   "name": "conda-env-gl-env-py"
  },
  "language_info": {
   "codemirror_mode": {
    "name": "ipython",
    "version": 2
   },
   "file_extension": ".py",
   "mimetype": "text/x-python",
   "name": "python",
   "nbconvert_exporter": "python",
   "pygments_lexer": "ipython2",
   "version": "2.7.11"
  }
 },
 "nbformat": 4,
 "nbformat_minor": 1
}
